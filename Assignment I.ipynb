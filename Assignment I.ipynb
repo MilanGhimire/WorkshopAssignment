{
 "cells": [
  {
   "cell_type": "markdown",
   "metadata": {},
   "source": [
    "### Question Number 1"
   ]
  },
  {
   "cell_type": "code",
   "execution_count": 1,
   "metadata": {},
   "outputs": [
    {
     "name": "stdout",
     "output_type": "stream",
     "text": [
      "Enter your age :: 22\n",
      "\n",
      "You will be 100 years old at the year :: 2096\n"
     ]
    }
   ],
   "source": [
    "a = int(input(\"Enter your age :: \"))\n",
    "year = 2018\n",
    "# print('a is {0}'. format(type(a)))\n",
    "year = year - a\n",
    "#print(year)\n",
    "year+=100\n",
    "message = '\\nYou will be 100 years old at the year :: ' + str(year)\n",
    "print(message)"
   ]
  },
  {
   "cell_type": "code",
   "execution_count": 2,
   "metadata": {},
   "outputs": [
    {
     "name": "stdout",
     "output_type": "stream",
     "text": [
      "Repeating time :: 2\n",
      "\n",
      "You will be 100 years old at the year :: 2096\n",
      "You will be 100 years old at the year :: 2096\n"
     ]
    }
   ],
   "source": [
    "times = int(input(\"Repeating time :: \"))\n",
    "print(times * message)"
   ]
  },
  {
   "cell_type": "markdown",
   "metadata": {},
   "source": [
    "### Question Number 2"
   ]
  },
  {
   "cell_type": "code",
   "execution_count": 8,
   "metadata": {},
   "outputs": [
    {
     "name": "stdout",
     "output_type": "stream",
     "text": [
      "Enter a number :: 12\n",
      "6.0 is the result of the even number\n"
     ]
    }
   ],
   "source": [
    "n = int(input('Enter a number :: '))\n",
    "if (n % 2) == 0:\n",
    "    if (n % 4) == 0:\n",
    "        print(str(n/2) + ' is the result of the even number divisible by 4')\n",
    "    else:\n",
    "        print(str(n/2) + ' is the result of the even number')\n",
    "else:\n",
    "    print(str(n/2) + ' is the result of the odd number')"
   ]
  },
  {
   "cell_type": "code",
   "execution_count": 15,
   "metadata": {},
   "outputs": [
    {
     "name": "stdout",
     "output_type": "stream",
     "text": [
      "Enter first number :: 22\n",
      "Enter second number :: 11\n",
      "Second number divides first number evenly. And the result is 0.0\n"
     ]
    }
   ],
   "source": [
    "num = int(input('Enter first number :: '))\n",
    "check = int(input('Enter second number :: '))\n",
    "if check == 0:\n",
    "    print('Denumunetor is 0 cannot divide')\n",
    "if ((num/check) % 2) == 0:\n",
    "    print('Second number divides first number evenly. And the result is ' + str((num/check) % 2))\n",
    "else:\n",
    "    print('Second number does not divides first number evenly. And the result is ' + str((num/check) % 2))"
   ]
  },
  {
   "cell_type": "markdown",
   "metadata": {},
   "source": [
    "### Question Number 3"
   ]
  },
  {
   "cell_type": "code",
   "execution_count": 41,
   "metadata": {},
   "outputs": [
    {
     "name": "stdout",
     "output_type": "stream",
     "text": [
      "Enter the minimum value :: 7\n",
      "3\n",
      "1\n",
      "5\n",
      "1\n",
      "2\n",
      "3\n",
      "4\n",
      "6\n",
      "7\n",
      "2\n",
      "3\n"
     ]
    }
   ],
   "source": [
    "#size = int(input('Enter the size of the List :: '))\n",
    "lists = [3, 1, 5, 8, 9, 1, 11, 2, 3, 4, 6, 7, 2, 3]\n",
    "ca = int(input('Enter the minimum value :: '))\n",
    "new_list = []\n",
    "for item in lists:\n",
    "    if item <= ca:\n",
    "        new_list.append(item)\n",
    "for items in new_list:\n",
    "    print(items)"
   ]
  },
  {
   "cell_type": "markdown",
   "metadata": {},
   "source": [
    "### Question Number 4"
   ]
  },
  {
   "cell_type": "code",
   "execution_count": 47,
   "metadata": {},
   "outputs": [
    {
     "name": "stdout",
     "output_type": "stream",
     "text": [
      "Enter a number :: 6\n",
      "Divisor of the 6 are ::\n",
      "[1, 2, 3]\n",
      "and 6\n"
     ]
    }
   ],
   "source": [
    "givenNumber = int(input('Enter a number :: '))\n",
    "print('Divisor of the ' + str(givenNumber) + ' are ::')\n",
    "lists = []\n",
    "for element in range(1, givenNumber):\n",
    "    if givenNumber % element == 0:\n",
    "        lists.append(element)\n",
    "print(lists)\n",
    "print('and ' + str(givenNumber))"
   ]
  },
  {
   "cell_type": "markdown",
   "metadata": {},
   "source": [
    "### Question Number 5"
   ]
  },
  {
   "cell_type": "code",
   "execution_count": 56,
   "metadata": {},
   "outputs": [
    {
     "name": "stdout",
     "output_type": "stream",
     "text": [
      "Common elements in both list are :: [1, 2, 3, 5, 8, 13]\n"
     ]
    }
   ],
   "source": [
    "a = [1, 1, 2, 3, 5, 8, 13, 21, 34, 55, 89]\n",
    "b = [1, 2, 3, 4, 5, 6, 7, 8, 9, 10, 11, 12, 13]\n",
    "c = []\n",
    "for element in range(1, 100):\n",
    "    if element in a and element in b:\n",
    "        c.append(element)\n",
    "print('Common elements in both list are :: ' + str(c))"
   ]
  },
  {
   "cell_type": "markdown",
   "metadata": {},
   "source": [
    "### Question Number 6 incomplete"
   ]
  },
  {
   "cell_type": "code",
   "execution_count": 61,
   "metadata": {},
   "outputs": [
    {
     "name": "stdout",
     "output_type": "stream",
     "text": [
      "Enter a string :: milan\n",
      "milan\n"
     ]
    }
   ],
   "source": [
    "givenString = input('Enter a string :: ')\n",
    "opposite = givenString[0:]\n",
    "print(opposite)"
   ]
  },
  {
   "cell_type": "markdown",
   "metadata": {},
   "source": [
    "### Question Number 7"
   ]
  },
  {
   "cell_type": "code",
   "execution_count": 62,
   "metadata": {},
   "outputs": [
    {
     "name": "stdout",
     "output_type": "stream",
     "text": [
      "[4, 16, 36, 64, 100]\n"
     ]
    }
   ],
   "source": [
    "a = [1, 4, 9, 16, 25, 36, 49, 64, 81, 100]\n",
    "b = [element for element in a if element % 2 == 0]\n",
    "print(b)"
   ]
  },
  {
   "cell_type": "markdown",
   "metadata": {},
   "source": [
    "### Question Number 8"
   ]
  },
  {
   "cell_type": "code",
   "execution_count": 1,
   "metadata": {},
   "outputs": [],
   "source": [
    "a = 'y'\n",
    "while (a != 'y'):\n",
    "    firstPlayer = input('Enter the ')"
   ]
  },
  {
   "cell_type": "markdown",
   "metadata": {},
   "source": [
    "### Question Number 9"
   ]
  },
  {
   "cell_type": "code",
   "execution_count": 13,
   "metadata": {},
   "outputs": [
    {
     "name": "stdout",
     "output_type": "stream",
     "text": [
      "6\n"
     ]
    }
   ],
   "source": [
    "import random as ra\n",
    "ranNo = ra.randint(1, 9)\n",
    "print(ranNo)"
   ]
  },
  {
   "cell_type": "code",
   "execution_count": null,
   "metadata": {},
   "outputs": [],
   "source": []
  }
 ],
 "metadata": {
  "kernelspec": {
   "display_name": "Python 3",
   "language": "python",
   "name": "python3"
  },
  "language_info": {
   "codemirror_mode": {
    "name": "ipython",
    "version": 3
   },
   "file_extension": ".py",
   "mimetype": "text/x-python",
   "name": "python",
   "nbconvert_exporter": "python",
   "pygments_lexer": "ipython3",
   "version": "3.6.5"
  }
 },
 "nbformat": 4,
 "nbformat_minor": 2
}
